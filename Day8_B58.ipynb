{
 "cells": [
  {
   "cell_type": "code",
   "execution_count": null,
   "id": "35d214e6",
   "metadata": {},
   "outputs": [],
   "source": [
    "Introduction to dictionaries (Recap)"
   ]
  },
  {
   "cell_type": "code",
   "execution_count": null,
   "id": "441a40df",
   "metadata": {},
   "outputs": [],
   "source": [
    "#how to access key value pairs in a dict?"
   ]
  },
  {
   "cell_type": "code",
   "execution_count": 1,
   "id": "75399137",
   "metadata": {},
   "outputs": [],
   "source": [
    "alien={'color':'green','points':5}"
   ]
  },
  {
   "cell_type": "code",
   "execution_count": 2,
   "id": "b3a08a21",
   "metadata": {},
   "outputs": [
    {
     "name": "stdout",
     "output_type": "stream",
     "text": [
      "{'color': 'green', 'points': 5}\n"
     ]
    }
   ],
   "source": [
    "print(alien)"
   ]
  },
  {
   "cell_type": "code",
   "execution_count": 3,
   "id": "b4fb0f09",
   "metadata": {},
   "outputs": [
    {
     "data": {
      "text/plain": [
       "dict"
      ]
     },
     "execution_count": 3,
     "metadata": {},
     "output_type": "execute_result"
    }
   ],
   "source": [
    "type(alien)"
   ]
  },
  {
   "cell_type": "code",
   "execution_count": 4,
   "id": "07198850",
   "metadata": {},
   "outputs": [
    {
     "name": "stdout",
     "output_type": "stream",
     "text": [
      "green\n"
     ]
    }
   ],
   "source": [
    "#want to know the color of alien\n",
    "print(alien['color'])            #give the key & get the value"
   ]
  },
  {
   "cell_type": "code",
   "execution_count": 5,
   "id": "783167f8",
   "metadata": {},
   "outputs": [
    {
     "ename": "KeyError",
     "evalue": "'green'",
     "output_type": "error",
     "traceback": [
      "\u001b[1;31m---------------------------------------------------------------------------\u001b[0m",
      "\u001b[1;31mKeyError\u001b[0m                                  Traceback (most recent call last)",
      "\u001b[1;32m<ipython-input-5-3532ea5e8add>\u001b[0m in \u001b[0;36m<module>\u001b[1;34m\u001b[0m\n\u001b[0;32m      1\u001b[0m \u001b[1;31m#can we give the value & get the key?\u001b[0m\u001b[1;33m\u001b[0m\u001b[1;33m\u001b[0m\u001b[1;33m\u001b[0m\u001b[0m\n\u001b[1;32m----> 2\u001b[1;33m \u001b[0mprint\u001b[0m\u001b[1;33m(\u001b[0m\u001b[0malien\u001b[0m\u001b[1;33m[\u001b[0m\u001b[1;34m'green'\u001b[0m\u001b[1;33m]\u001b[0m\u001b[1;33m)\u001b[0m\u001b[1;33m\u001b[0m\u001b[1;33m\u001b[0m\u001b[0m\n\u001b[0m",
      "\u001b[1;31mKeyError\u001b[0m: 'green'"
     ]
    }
   ],
   "source": [
    "#can we give the value & get the key?\n",
    "print(alien['green'])"
   ]
  },
  {
   "cell_type": "code",
   "execution_count": null,
   "id": "be9a81ee",
   "metadata": {},
   "outputs": [],
   "source": [
    "#reverse is not possible"
   ]
  },
  {
   "cell_type": "code",
   "execution_count": 6,
   "id": "e3a8f4b2",
   "metadata": {},
   "outputs": [
    {
     "name": "stdout",
     "output_type": "stream",
     "text": [
      "{'color': 'green', 'points': 5}\n"
     ]
    }
   ],
   "source": [
    "#req:how to add new key value pairs to the dictionary?\n",
    "print(alien)"
   ]
  },
  {
   "cell_type": "code",
   "execution_count": 7,
   "id": "97cfbfb3",
   "metadata": {},
   "outputs": [
    {
     "name": "stdout",
     "output_type": "stream",
     "text": [
      "{'color': 'green', 'points': 5, 'start_position': 0}\n"
     ]
    }
   ],
   "source": [
    "#req:to add start_position:0\n",
    "alien['start_position']=0\n",
    "print(alien)"
   ]
  },
  {
   "cell_type": "code",
   "execution_count": 11,
   "id": "8d3134da",
   "metadata": {},
   "outputs": [
    {
     "name": "stdout",
     "output_type": "stream",
     "text": [
      "{'color': 'yellow', 'points': 5, 'start_position': 0}\n"
     ]
    }
   ],
   "source": [
    "#req:to change the color to yellow\n",
    "alien['color']='yellow'\n",
    "print(alien)"
   ]
  },
  {
   "cell_type": "code",
   "execution_count": 12,
   "id": "d44db124",
   "metadata": {},
   "outputs": [
    {
     "name": "stdout",
     "output_type": "stream",
     "text": [
      "{'color': 'yellow', 'start_position': 0}\n"
     ]
    }
   ],
   "source": [
    "#req:how to delete the key value pairs\n",
    "#req:y-to delete the points\n",
    "del alien['points']\n",
    "print(alien)"
   ]
  },
  {
   "cell_type": "code",
   "execution_count": null,
   "id": "c8eba2b7",
   "metadata": {},
   "outputs": [],
   "source": [
    "REAL TIME IMPLEMENTATION OF DICTIONARY"
   ]
  },
  {
   "cell_type": "code",
   "execution_count": null,
   "id": "07030b76",
   "metadata": {},
   "outputs": [],
   "source": [
    "#req:create an account in instagram:"
   ]
  },
  {
   "cell_type": "code",
   "execution_count": 13,
   "id": "fbd956d5",
   "metadata": {},
   "outputs": [],
   "source": [
    "useraccount={'username':'codetrainingacademy','firstname':'code','lastname':'training','dob':'01-01-2020','pwd':'12345'}"
   ]
  },
  {
   "cell_type": "code",
   "execution_count": 14,
   "id": "6f30ded9",
   "metadata": {},
   "outputs": [
    {
     "name": "stdout",
     "output_type": "stream",
     "text": [
      "{'username': 'codetrainingacademy', 'firstname': 'code', 'lastname': 'training', 'dob': '01-01-2020', 'pwd': '12345'}\n"
     ]
    }
   ],
   "source": [
    "print(useraccount)"
   ]
  },
  {
   "cell_type": "code",
   "execution_count": 15,
   "id": "cb6df9f5",
   "metadata": {},
   "outputs": [
    {
     "name": "stdout",
     "output_type": "stream",
     "text": [
      "{'username': 'codetrainingacademy', 'firstname': 'code', 'lastname': 'training', 'dob': '01-01-2020', 'pwd': '12345', 'status_update': 'farzi cafe'}\n"
     ]
    }
   ],
   "source": [
    "useraccount['status_update']='farzi cafe'\n",
    "print(useraccount)"
   ]
  },
  {
   "cell_type": "code",
   "execution_count": null,
   "id": "4f155197",
   "metadata": {},
   "outputs": [],
   "source": []
  }
 ],
 "metadata": {
  "kernelspec": {
   "display_name": "Python 3",
   "language": "python",
   "name": "python3"
  },
  "language_info": {
   "codemirror_mode": {
    "name": "ipython",
    "version": 3
   },
   "file_extension": ".py",
   "mimetype": "text/x-python",
   "name": "python",
   "nbconvert_exporter": "python",
   "pygments_lexer": "ipython3",
   "version": "3.8.8"
  }
 },
 "nbformat": 4,
 "nbformat_minor": 5
}
