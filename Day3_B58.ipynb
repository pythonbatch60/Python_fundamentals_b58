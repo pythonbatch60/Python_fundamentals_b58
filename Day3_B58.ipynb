{
 "cells": [
  {
   "cell_type": "code",
   "execution_count": null,
   "id": "2923446f",
   "metadata": {},
   "outputs": [],
   "source": [
    "Day3\n",
    "Strings continuation"
   ]
  },
  {
   "cell_type": "code",
   "execution_count": 1,
   "id": "2671a173",
   "metadata": {},
   "outputs": [],
   "source": [
    "first_name='rahul'\n",
    "last_name='ahrer'"
   ]
  },
  {
   "cell_type": "code",
   "execution_count": 2,
   "id": "867363d6",
   "metadata": {},
   "outputs": [
    {
     "name": "stdout",
     "output_type": "stream",
     "text": [
      "rahul ahrer\n"
     ]
    }
   ],
   "source": [
    "full_name='rahul ahrer'\n",
    "print(full_name)"
   ]
  },
  {
   "cell_type": "code",
   "execution_count": 3,
   "id": "07f89536",
   "metadata": {},
   "outputs": [
    {
     "name": "stdout",
     "output_type": "stream",
     "text": [
      "Rahul Ahrer\n"
     ]
    }
   ],
   "source": [
    "print(full_name.title())#converting to capital letter"
   ]
  },
  {
   "cell_type": "code",
   "execution_count": null,
   "id": "d4f9cb54",
   "metadata": {},
   "outputs": [],
   "source": [
    "#full name in capital letters"
   ]
  },
  {
   "cell_type": "code",
   "execution_count": 4,
   "id": "f8ff747e",
   "metadata": {},
   "outputs": [
    {
     "name": "stdout",
     "output_type": "stream",
     "text": [
      "RAHUL AHRER\n"
     ]
    }
   ],
   "source": [
    "print(full_name.upper())"
   ]
  },
  {
   "cell_type": "code",
   "execution_count": null,
   "id": "c1731158",
   "metadata": {},
   "outputs": [],
   "source": [
    "#full name to be in small case"
   ]
  },
  {
   "cell_type": "code",
   "execution_count": 5,
   "id": "0829998d",
   "metadata": {},
   "outputs": [
    {
     "name": "stdout",
     "output_type": "stream",
     "text": [
      "rahul ahrer\n"
     ]
    }
   ],
   "source": [
    "print(full_name.lower())"
   ]
  },
  {
   "cell_type": "code",
   "execution_count": null,
   "id": "347a5aad",
   "metadata": {},
   "outputs": [],
   "source": [
    "Introduction to f strings\n"
   ]
  },
  {
   "cell_type": "code",
   "execution_count": null,
   "id": "21413eb5",
   "metadata": {},
   "outputs": [],
   "source": [
    "first_name='rahul'\n",
    "last_name='ahrer'"
   ]
  },
  {
   "cell_type": "code",
   "execution_count": null,
   "id": "11b5fa2c",
   "metadata": {},
   "outputs": [],
   "source": [
    "#to get the full name"
   ]
  },
  {
   "cell_type": "code",
   "execution_count": 8,
   "id": "638cc096",
   "metadata": {},
   "outputs": [
    {
     "name": "stdout",
     "output_type": "stream",
     "text": [
      "rahul ahrer\n"
     ]
    }
   ],
   "source": [
    "full_name=f\"{first_name} {last_name}\" \n",
    "print(full_name)"
   ]
  },
  {
   "cell_type": "code",
   "execution_count": 9,
   "id": "07ecfe96",
   "metadata": {},
   "outputs": [
    {
     "name": "stdout",
     "output_type": "stream",
     "text": [
      "rahul ahrer\n"
     ]
    }
   ],
   "source": [
    "print(full_name)"
   ]
  },
  {
   "cell_type": "code",
   "execution_count": 10,
   "id": "bc3c534e",
   "metadata": {},
   "outputs": [
    {
     "name": "stdout",
     "output_type": "stream",
     "text": [
      "Keep Up The Good Work,Rahul Ahrer\n"
     ]
    }
   ],
   "source": [
    "message=f\"keep up the good work,{first_name} {last_name}\" \n",
    "print(message.title())"
   ]
  },
  {
   "cell_type": "code",
   "execution_count": 11,
   "id": "248fc017",
   "metadata": {},
   "outputs": [
    {
     "name": "stdout",
     "output_type": "stream",
     "text": [
      "keep up the good work,Rahul Ahrer\n"
     ]
    }
   ],
   "source": [
    "message=f\"keep up the good work,{full_name.title()}\" \n",
    "print(message)"
   ]
  },
  {
   "cell_type": "code",
   "execution_count": null,
   "id": "2323b847",
   "metadata": {},
   "outputs": [],
   "source": [
    "Adding whitespaces to strings\n"
   ]
  }
 ],
 "metadata": {
  "kernelspec": {
   "display_name": "Python 3",
   "language": "python",
   "name": "python3"
  },
  "language_info": {
   "codemirror_mode": {
    "name": "ipython",
    "version": 3
   },
   "file_extension": ".py",
   "mimetype": "text/x-python",
   "name": "python",
   "nbconvert_exporter": "python",
   "pygments_lexer": "ipython3",
   "version": "3.8.8"
  }
 },
 "nbformat": 4,
 "nbformat_minor": 5
}
