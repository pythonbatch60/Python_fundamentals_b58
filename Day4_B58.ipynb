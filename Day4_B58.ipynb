{
 "cells": [
  {
   "cell_type": "code",
   "execution_count": null,
   "id": "bdd24604",
   "metadata": {},
   "outputs": [],
   "source": [
    "DAY4\n",
    "Introduction to list datatype"
   ]
  },
  {
   "cell_type": "code",
   "execution_count": null,
   "id": "ff1ec71f",
   "metadata": {},
   "outputs": [],
   "source": [
    "How to declare the list..? [] brackets.\n"
   ]
  },
  {
   "cell_type": "code",
   "execution_count": 7,
   "id": "2b056d3b",
   "metadata": {},
   "outputs": [
    {
     "name": "stdout",
     "output_type": "stream",
     "text": [
      "['harish', 'sandeep', 'rasika', 'sanuba', 'pavitra', 'nusrat']\n"
     ]
    }
   ],
   "source": [
    "students=['harish','sandeep','rasika','sanuba','pavitra','nusrat'] #0,1,2,3,4,5\n",
    "print(students)"
   ]
  },
  {
   "cell_type": "code",
   "execution_count": null,
   "id": "6758ab8d",
   "metadata": {},
   "outputs": [],
   "source": [
    "To access the above elementsin the list\n",
    "Introduction to indexing:0,1,2,........."
   ]
  },
  {
   "cell_type": "code",
   "execution_count": null,
   "id": "310494d5",
   "metadata": {},
   "outputs": [],
   "source": [
    "Want to access sandeep name from above list"
   ]
  },
  {
   "cell_type": "code",
   "execution_count": 8,
   "id": "8d47beee",
   "metadata": {},
   "outputs": [
    {
     "name": "stdout",
     "output_type": "stream",
     "text": [
      "sandeep\n"
     ]
    }
   ],
   "source": [
    "print(students[1])"
   ]
  },
  {
   "cell_type": "code",
   "execution_count": 9,
   "id": "1484df13",
   "metadata": {},
   "outputs": [
    {
     "name": "stdout",
     "output_type": "stream",
     "text": [
      "Sandeep\n"
     ]
    }
   ],
   "source": [
    "print(students[1].title()) #Capital letter"
   ]
  },
  {
   "cell_type": "code",
   "execution_count": null,
   "id": "43a14825",
   "metadata": {},
   "outputs": [],
   "source": [
    "To add new element to list datatype #1\n"
   ]
  },
  {
   "cell_type": "code",
   "execution_count": null,
   "id": "319fdcb9",
   "metadata": {},
   "outputs": [],
   "source": [
    "Want to add naveenname to the above list"
   ]
  },
  {
   "cell_type": "code",
   "execution_count": 17,
   "id": "c6e2ea9a",
   "metadata": {},
   "outputs": [
    {
     "name": "stdout",
     "output_type": "stream",
     "text": [
      "['harish', 'sandeep', 'zaid', 'zaid', 'rasika', 'sanuba', 'pavitra', 'nusrat', 'naveen', 'naveen', 'sachin', 'naveen']\n"
     ]
    }
   ],
   "source": [
    "students.append('naveen')\n",
    "print(students)\n"
   ]
  },
  {
   "cell_type": "code",
   "execution_count": null,
   "id": "12b6e7c4",
   "metadata": {},
   "outputs": [],
   "source": [
    "Whenever we append, the name is added to the last in the list. To get the name in the required postion....\n",
    "#req: Want to add zaid to the above listin the 2nd index"
   ]
  },
  {
   "cell_type": "code",
   "execution_count": 18,
   "id": "41a4737f",
   "metadata": {},
   "outputs": [
    {
     "name": "stdout",
     "output_type": "stream",
     "text": [
      "['harish', 'sandeep', 'zaid', 'zaid', 'zaid', 'rasika', 'sanuba', 'pavitra', 'nusrat', 'naveen', 'naveen', 'sachin', 'naveen']\n"
     ]
    }
   ],
   "source": [
    "students.insert(2,'zaid')\n",
    "print(students)"
   ]
  },
  {
   "cell_type": "code",
   "execution_count": 13,
   "id": "d14f5589",
   "metadata": {},
   "outputs": [
    {
     "name": "stdout",
     "output_type": "stream",
     "text": [
      "zaid\n"
     ]
    }
   ],
   "source": [
    "print(students[2])"
   ]
  },
  {
   "cell_type": "code",
   "execution_count": 14,
   "id": "f8100138",
   "metadata": {},
   "outputs": [
    {
     "name": "stdout",
     "output_type": "stream",
     "text": [
      "Zaid\n"
     ]
    }
   ],
   "source": [
    "print(students[2].title())"
   ]
  },
  {
   "cell_type": "code",
   "execution_count": null,
   "id": "89f5586b",
   "metadata": {},
   "outputs": [],
   "source": [
    "To modify elements to list datatype #2"
   ]
  },
  {
   "cell_type": "code",
   "execution_count": 19,
   "id": "ac62aa46",
   "metadata": {},
   "outputs": [
    {
     "name": "stdout",
     "output_type": "stream",
     "text": [
      "['harish', 'sandeep', 'zaid', 'rasika', 'sanuba', 'pavitra', 'nusrat', 'naveen', 'sachin']\n"
     ]
    }
   ],
   "source": [
    "students=['harish','sandeep','zaid','rasika','sanuba','pavitra','nusrat','naveen','sachin']\n",
    "print(students)"
   ]
  },
  {
   "cell_type": "code",
   "execution_count": null,
   "id": "6ee9d60c",
   "metadata": {},
   "outputs": [],
   "source": [
    "#req: Want to modify sandeep name to srikanth"
   ]
  },
  {
   "cell_type": "code",
   "execution_count": 23,
   "id": "665b57de",
   "metadata": {},
   "outputs": [
    {
     "name": "stdout",
     "output_type": "stream",
     "text": [
      "['harish', 'srikanth', 'zaid', 'rasika', 'sanuba', 'pavitra', 'nusrat', 'naveen', 'sachin']\n"
     ]
    }
   ],
   "source": [
    "students[1]='srikanth'\n",
    "print(students)"
   ]
  },
  {
   "cell_type": "code",
   "execution_count": null,
   "id": "bcca2e7f",
   "metadata": {},
   "outputs": [],
   "source": [
    "To delete the elements from the list datatype #3"
   ]
  },
  {
   "cell_type": "code",
   "execution_count": null,
   "id": "0720d397",
   "metadata": {},
   "outputs": [],
   "source": [
    "#req: Want to delete rasika name from the above list\n",
    "index number:3"
   ]
  },
  {
   "cell_type": "code",
   "execution_count": 24,
   "id": "388c0a72",
   "metadata": {},
   "outputs": [
    {
     "name": "stdout",
     "output_type": "stream",
     "text": [
      "['harish', 'srikanth', 'zaid', 'sanuba', 'pavitra', 'nusrat', 'naveen', 'sachin']\n"
     ]
    }
   ],
   "source": [
    "del students[3] #permanent delete\n",
    "print(students)"
   ]
  },
  {
   "cell_type": "code",
   "execution_count": null,
   "id": "f708473c",
   "metadata": {},
   "outputs": [],
   "source": [
    "Pop method --> #temporary deleting\n",
    "#pop by default delete the last element of the list & create a carbon copy of the deleted items to the variable assigned to it. "
   ]
  },
  {
   "cell_type": "code",
   "execution_count": 25,
   "id": "4f4a5928",
   "metadata": {},
   "outputs": [
    {
     "name": "stdout",
     "output_type": "stream",
     "text": [
      "['harish', 'srikanth', 'zaid', 'sanuba', 'pavitra', 'nusrat', 'naveen']\n"
     ]
    }
   ],
   "source": [
    "x=students.pop()\n",
    "print(students)"
   ]
  },
  {
   "cell_type": "code",
   "execution_count": 26,
   "id": "fffa7e12",
   "metadata": {},
   "outputs": [
    {
     "name": "stdout",
     "output_type": "stream",
     "text": [
      "sachin\n"
     ]
    }
   ],
   "source": [
    "print(x)"
   ]
  },
  {
   "cell_type": "code",
   "execution_count": null,
   "id": "b6ef4b7f",
   "metadata": {},
   "outputs": [],
   "source": []
  }
 ],
 "metadata": {
  "kernelspec": {
   "display_name": "Python 3",
   "language": "python",
   "name": "python3"
  },
  "language_info": {
   "codemirror_mode": {
    "name": "ipython",
    "version": 3
   },
   "file_extension": ".py",
   "mimetype": "text/x-python",
   "name": "python",
   "nbconvert_exporter": "python",
   "pygments_lexer": "ipython3",
   "version": "3.8.8"
  }
 },
 "nbformat": 4,
 "nbformat_minor": 5
}
