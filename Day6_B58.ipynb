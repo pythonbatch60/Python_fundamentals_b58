{
 "cells": [
  {
   "cell_type": "code",
   "execution_count": null,
   "id": "5654ff9b",
   "metadata": {},
   "outputs": [],
   "source": [
    "Introduction to looping statements"
   ]
  },
  {
   "cell_type": "code",
   "execution_count": 1,
   "id": "ffac644f",
   "metadata": {},
   "outputs": [],
   "source": [
    "students=['karthik','naveen','faisal','hameed','laiba','pavitra']"
   ]
  },
  {
   "cell_type": "code",
   "execution_count": 2,
   "id": "645d0b60",
   "metadata": {},
   "outputs": [
    {
     "name": "stdout",
     "output_type": "stream",
     "text": [
      "['karthik', 'naveen', 'faisal', 'hameed', 'laiba', 'pavitra']\n"
     ]
    }
   ],
   "source": [
    "print(students)"
   ]
  },
  {
   "cell_type": "code",
   "execution_count": 3,
   "id": "53412e39",
   "metadata": {},
   "outputs": [
    {
     "data": {
      "text/plain": [
       "list"
      ]
     },
     "execution_count": 3,
     "metadata": {},
     "output_type": "execute_result"
    }
   ],
   "source": [
    "type(students)"
   ]
  },
  {
   "cell_type": "code",
   "execution_count": null,
   "id": "e247af17",
   "metadata": {},
   "outputs": [],
   "source": [
    "#want o appreciate students"
   ]
  },
  {
   "cell_type": "code",
   "execution_count": 5,
   "id": "651057a9",
   "metadata": {},
   "outputs": [],
   "source": [
    "message=f\"keep up the good work,{students[0].title()}\" "
   ]
  },
  {
   "cell_type": "code",
   "execution_count": 6,
   "id": "4d32c534",
   "metadata": {},
   "outputs": [
    {
     "name": "stdout",
     "output_type": "stream",
     "text": [
      "keep up the good work,Karthik\n"
     ]
    }
   ],
   "source": [
    "print(message)"
   ]
  },
  {
   "cell_type": "code",
   "execution_count": null,
   "id": "5cc18726",
   "metadata": {},
   "outputs": [],
   "source": [
    "General syntax of a for loop:\n",
    "    for tempvar in mainvar:\n",
    "        print(tempvar)"
   ]
  },
  {
   "cell_type": "code",
   "execution_count": 9,
   "id": "f2539a78",
   "metadata": {},
   "outputs": [
    {
     "name": "stdout",
     "output_type": "stream",
     "text": [
      "keep up the good work,Karthik\n",
      "keep up the good work,Naveen\n",
      "keep up the good work,Faisal\n",
      "keep up the good work,Hameed\n",
      "keep up the good work,Laiba\n",
      "keep up the good work,Pavitra\n"
     ]
    }
   ],
   "source": [
    "for x in students:\n",
    "    print(f\"keep up the good work,{x.title()}\")"
   ]
  },
  {
   "cell_type": "code",
   "execution_count": 7,
   "id": "1f607790",
   "metadata": {},
   "outputs": [
    {
     "ename": "NameError",
     "evalue": "name 'x' is not defined",
     "output_type": "error",
     "traceback": [
      "\u001b[1;31m---------------------------------------------------------------------------\u001b[0m",
      "\u001b[1;31mNameError\u001b[0m                                 Traceback (most recent call last)",
      "\u001b[1;32m<ipython-input-7-0badb003e8cf>\u001b[0m in \u001b[0;36m<module>\u001b[1;34m\u001b[0m\n\u001b[1;32m----> 1\u001b[1;33m \u001b[0mprint\u001b[0m\u001b[1;33m(\u001b[0m\u001b[1;34mf\"keep up the good work,{x.title()}\"\u001b[0m\u001b[1;33m)\u001b[0m\u001b[1;33m\u001b[0m\u001b[1;33m\u001b[0m\u001b[0m\n\u001b[0m",
      "\u001b[1;31mNameError\u001b[0m: name 'x' is not defined"
     ]
    }
   ],
   "source": []
  },
  {
   "cell_type": "code",
   "execution_count": 10,
   "id": "5c91f50f",
   "metadata": {},
   "outputs": [
    {
     "name": "stdout",
     "output_type": "stream",
     "text": [
      "karthik\n",
      "naveen\n",
      "faisal\n",
      "hameed\n",
      "laiba\n",
      "pavitra\n"
     ]
    }
   ],
   "source": [
    "for a in students:    #indentation\n",
    "    print(a)"
   ]
  },
  {
   "cell_type": "code",
   "execution_count": 11,
   "id": "f9c371bc",
   "metadata": {},
   "outputs": [
    {
     "ename": "IndentationError",
     "evalue": "expected an indented block (<ipython-input-11-9574259eb491>, line 2)",
     "output_type": "error",
     "traceback": [
      "\u001b[1;36m  File \u001b[1;32m\"<ipython-input-11-9574259eb491>\"\u001b[1;36m, line \u001b[1;32m2\u001b[0m\n\u001b[1;33m    print(a)\u001b[0m\n\u001b[1;37m    ^\u001b[0m\n\u001b[1;31mIndentationError\u001b[0m\u001b[1;31m:\u001b[0m expected an indented block\n"
     ]
    }
   ],
   "source": [
    "for a in students:\n",
    "print(a)"
   ]
  },
  {
   "cell_type": "code",
   "execution_count": null,
   "id": "8d2115bb",
   "metadata": {},
   "outputs": [],
   "source": [
    "#req: looking forward for today's github practice URL"
   ]
  },
  {
   "cell_type": "code",
   "execution_count": 12,
   "id": "d1bdd30b",
   "metadata": {},
   "outputs": [
    {
     "name": "stdout",
     "output_type": "stream",
     "text": [
      "keep up the good work,Karthik\n",
      "looking forward for today's github practice URL,Karthik\n",
      "keep up the good work,Naveen\n",
      "looking forward for today's github practice URL,Naveen\n",
      "keep up the good work,Faisal\n",
      "looking forward for today's github practice URL,Faisal\n",
      "keep up the good work,Hameed\n",
      "looking forward for today's github practice URL,Hameed\n",
      "keep up the good work,Laiba\n",
      "looking forward for today's github practice URL,Laiba\n",
      "keep up the good work,Pavitra\n",
      "looking forward for today's github practice URL,Pavitra\n"
     ]
    }
   ],
   "source": [
    "for x in students:\n",
    "    print(f\"keep up the good work,{x.title()}\")\n",
    "    print(f\"looking forward for today's github practice URL,{x.title()}\")"
   ]
  },
  {
   "cell_type": "code",
   "execution_count": 13,
   "id": "017aacbb",
   "metadata": {},
   "outputs": [
    {
     "name": "stdout",
     "output_type": "stream",
     "text": [
      "keep up the good work,Karthik\n",
      "looking forward for today's github practice URL,Karthik\n",
      "\n",
      "keep up the good work,Naveen\n",
      "looking forward for today's github practice URL,Naveen\n",
      "\n",
      "keep up the good work,Faisal\n",
      "looking forward for today's github practice URL,Faisal\n",
      "\n",
      "keep up the good work,Hameed\n",
      "looking forward for today's github practice URL,Hameed\n",
      "\n",
      "keep up the good work,Laiba\n",
      "looking forward for today's github practice URL,Laiba\n",
      "\n",
      "keep up the good work,Pavitra\n",
      "looking forward for today's github practice URL,Pavitra\n",
      "\n"
     ]
    }
   ],
   "source": [
    "for x in students:\n",
    "    print(f\"keep up the good work,{x.title()}\")\n",
    "    print(f\"looking forward for today's github practice URL,{x.title()}\\n\")  #\\n===>new line delimiter"
   ]
  },
  {
   "cell_type": "code",
   "execution_count": 14,
   "id": "3080f194",
   "metadata": {},
   "outputs": [
    {
     "name": "stdout",
     "output_type": "stream",
     "text": [
      "keep up the good work,Karthik\n",
      "looking forward for today's github practice URL,Karthik\n",
      "\n",
      "keep up the good work,Naveen\n",
      "looking forward for today's github practice URL,Naveen\n",
      "\n",
      "keep up the good work,Faisal\n",
      "looking forward for today's github practice URL,Faisal\n",
      "\n",
      "keep up the good work,Hameed\n",
      "looking forward for today's github practice URL,Hameed\n",
      "\n",
      "keep up the good work,Laiba\n",
      "looking forward for today's github practice URL,Laiba\n",
      "\n",
      "keep up the good work,Pavitra\n",
      "looking forward for today's github practice URL,Pavitra\n",
      "\n",
      "Thank you all for joining in the session\n"
     ]
    }
   ],
   "source": [
    "for x in students:\n",
    "    print(f\"keep up the good work,{x.title()}\")   #writing in the loop\n",
    "    print(f\"looking forward for today's github practice URL,{x.title()}\\n\") \n",
    "    \n",
    "print(\"Thank you all for joining in the session\") #writing out of the loop"
   ]
  },
  {
   "cell_type": "code",
   "execution_count": null,
   "id": "6c452225",
   "metadata": {},
   "outputs": [],
   "source": []
  },
  {
   "cell_type": "code",
   "execution_count": null,
   "id": "48fbe347",
   "metadata": {},
   "outputs": [],
   "source": []
  }
 ],
 "metadata": {
  "kernelspec": {
   "display_name": "Python 3",
   "language": "python",
   "name": "python3"
  },
  "language_info": {
   "codemirror_mode": {
    "name": "ipython",
    "version": 3
   },
   "file_extension": ".py",
   "mimetype": "text/x-python",
   "name": "python",
   "nbconvert_exporter": "python",
   "pygments_lexer": "ipython3",
   "version": "3.8.8"
  }
 },
 "nbformat": 4,
 "nbformat_minor": 5
}
