{
 "cells": [
  {
   "cell_type": "code",
   "execution_count": null,
   "id": "88fff2c9",
   "metadata": {},
   "outputs": [],
   "source": [
    "Continuation with list datatype\n",
    "Organising the list datatype:"
   ]
  },
  {
   "cell_type": "code",
   "execution_count": 1,
   "id": "a7eac55d",
   "metadata": {},
   "outputs": [],
   "source": [
    "cars=['maruthi','bmw','audi','benz','volvo','suzuki']"
   ]
  },
  {
   "cell_type": "code",
   "execution_count": 2,
   "id": "6e3e76fa",
   "metadata": {},
   "outputs": [
    {
     "name": "stdout",
     "output_type": "stream",
     "text": [
      "['maruthi', 'bmw', 'audi', 'benz', 'volvo', 'suzuki']\n"
     ]
    }
   ],
   "source": [
    "print(cars)"
   ]
  },
  {
   "cell_type": "code",
   "execution_count": null,
   "id": "9225227f",
   "metadata": {},
   "outputs": [],
   "source": [
    "#req: want to print the list in alphabetical order\n",
    "1:temporary approach 2:permanent approach"
   ]
  },
  {
   "cell_type": "code",
   "execution_count": null,
   "id": "c594c4d2",
   "metadata": {},
   "outputs": [],
   "source": [
    "1:sorted"
   ]
  },
  {
   "cell_type": "code",
   "execution_count": 3,
   "id": "73f46c88",
   "metadata": {},
   "outputs": [
    {
     "name": "stdout",
     "output_type": "stream",
     "text": [
      "['audi', 'benz', 'bmw', 'maruthi', 'suzuki', 'volvo']\n"
     ]
    }
   ],
   "source": [
    "print(sorted(cars))#A-Z"
   ]
  },
  {
   "cell_type": "code",
   "execution_count": 4,
   "id": "69bd785e",
   "metadata": {},
   "outputs": [
    {
     "name": "stdout",
     "output_type": "stream",
     "text": [
      "['maruthi', 'bmw', 'audi', 'benz', 'volvo', 'suzuki']\n"
     ]
    }
   ],
   "source": [
    "print(cars) #originals still exists with sorted method"
   ]
  },
  {
   "cell_type": "code",
   "execution_count": null,
   "id": "34978869",
   "metadata": {},
   "outputs": [],
   "source": [
    "2:sort method"
   ]
  },
  {
   "cell_type": "raw",
   "id": "df2c6841",
   "metadata": {},
   "source": []
  },
  {
   "cell_type": "code",
   "execution_count": 6,
   "id": "fd39af3b",
   "metadata": {},
   "outputs": [
    {
     "name": "stdout",
     "output_type": "stream",
     "text": [
      "['audi', 'benz', 'bmw', 'maruthi', 'suzuki', 'volvo']\n"
     ]
    }
   ],
   "source": [
    "cars.sort()\n",
    "print(cars)"
   ]
  },
  {
   "cell_type": "code",
   "execution_count": 7,
   "id": "95073525",
   "metadata": {},
   "outputs": [
    {
     "name": "stdout",
     "output_type": "stream",
     "text": [
      "['audi', 'benz', 'bmw', 'maruthi', 'suzuki', 'volvo']\n"
     ]
    }
   ],
   "source": [
    "print(cars) #won't get the originals back "
   ]
  },
  {
   "cell_type": "code",
   "execution_count": null,
   "id": "3279d068",
   "metadata": {},
   "outputs": [],
   "source": [
    "#req: to print the list in reverse order"
   ]
  },
  {
   "cell_type": "code",
   "execution_count": 8,
   "id": "966352d4",
   "metadata": {},
   "outputs": [
    {
     "name": "stdout",
     "output_type": "stream",
     "text": [
      "['audi', 'benz', 'bmw', 'maruthi', 'suzuki', 'volvo']\n"
     ]
    }
   ],
   "source": [
    "print(cars)"
   ]
  },
  {
   "cell_type": "code",
   "execution_count": 9,
   "id": "817d7417",
   "metadata": {},
   "outputs": [
    {
     "name": "stdout",
     "output_type": "stream",
     "text": [
      "['volvo', 'suzuki', 'maruthi', 'bmw', 'benz', 'audi']\n"
     ]
    }
   ],
   "source": [
    "cars.reverse()\n",
    "print(cars)"
   ]
  },
  {
   "cell_type": "code",
   "execution_count": null,
   "id": "d4af3bc5",
   "metadata": {},
   "outputs": [],
   "source": [
    "#req: to count the no:of elements that are present in the list"
   ]
  },
  {
   "cell_type": "code",
   "execution_count": 10,
   "id": "a7f79f55",
   "metadata": {},
   "outputs": [
    {
     "name": "stdout",
     "output_type": "stream",
     "text": [
      "['volvo', 'suzuki', 'maruthi', 'bmw', 'benz', 'audi']\n"
     ]
    }
   ],
   "source": [
    "print(cars)"
   ]
  },
  {
   "cell_type": "code",
   "execution_count": 11,
   "id": "0eafe71a",
   "metadata": {},
   "outputs": [
    {
     "data": {
      "text/plain": [
       "6"
      ]
     },
     "execution_count": 11,
     "metadata": {},
     "output_type": "execute_result"
    }
   ],
   "source": [
    "len(cars)"
   ]
  },
  {
   "cell_type": "code",
   "execution_count": null,
   "id": "16ce79bd",
   "metadata": {},
   "outputs": [],
   "source": [
    "Slicing of the list datatype"
   ]
  },
  {
   "cell_type": "code",
   "execution_count": 12,
   "id": "f29d564a",
   "metadata": {},
   "outputs": [],
   "source": [
    "students=['karthik','naveen','david','ram singh','sravani','pavitra','noorian','iqra']#want to break into slices"
   ]
  },
  {
   "cell_type": "code",
   "execution_count": null,
   "id": "f2bd99cc",
   "metadata": {},
   "outputs": [],
   "source": [
    "General syntax of slicing: [startvalue:stopvalue:step count]"
   ]
  },
  {
   "cell_type": "code",
   "execution_count": 13,
   "id": "6d677d4e",
   "metadata": {},
   "outputs": [
    {
     "name": "stdout",
     "output_type": "stream",
     "text": [
      "['karthik']\n"
     ]
    }
   ],
   "source": [
    "#req: want to include karthik & naveen in one slice\n",
    "print(students[0:1]) "
   ]
  },
  {
   "cell_type": "code",
   "execution_count": null,
   "id": "72a3266c",
   "metadata": {},
   "outputs": [],
   "source": [
    "#stopvalue is always exclusive.so to include it we have to increment the index by +1\n",
    "To obtain both names"
   ]
  },
  {
   "cell_type": "code",
   "execution_count": 14,
   "id": "36acc29d",
   "metadata": {},
   "outputs": [
    {
     "name": "stdout",
     "output_type": "stream",
     "text": [
      "['karthik', 'naveen']\n"
     ]
    }
   ],
   "source": [
    "print(students[0:2]) #index value incremented"
   ]
  },
  {
   "cell_type": "code",
   "execution_count": null,
   "id": "9ce619ca",
   "metadata": {},
   "outputs": [],
   "source": [
    "#req: want david & ram singh in one slice"
   ]
  },
  {
   "cell_type": "code",
   "execution_count": 15,
   "id": "9753a195",
   "metadata": {},
   "outputs": [
    {
     "name": "stdout",
     "output_type": "stream",
     "text": [
      "['david', 'ram singh']\n"
     ]
    }
   ],
   "source": [
    "print(students[2:4])"
   ]
  },
  {
   "cell_type": "code",
   "execution_count": null,
   "id": "e7f42802",
   "metadata": {},
   "outputs": [],
   "source": [
    "#req: every alternate student"
   ]
  },
  {
   "cell_type": "code",
   "execution_count": 16,
   "id": "ba99f2a8",
   "metadata": {},
   "outputs": [
    {
     "name": "stdout",
     "output_type": "stream",
     "text": [
      "['karthik', 'david', 'sravani', 'noorian']\n"
     ]
    }
   ],
   "source": [
    "print(students[0:7:2])"
   ]
  },
  {
   "cell_type": "code",
   "execution_count": null,
   "id": "61d87056",
   "metadata": {},
   "outputs": [],
   "source": []
  }
 ],
 "metadata": {
  "kernelspec": {
   "display_name": "Python 3",
   "language": "python",
   "name": "python3"
  },
  "language_info": {
   "codemirror_mode": {
    "name": "ipython",
    "version": 3
   },
   "file_extension": ".py",
   "mimetype": "text/x-python",
   "name": "python",
   "nbconvert_exporter": "python",
   "pygments_lexer": "ipython3",
   "version": "3.8.8"
  }
 },
 "nbformat": 4,
 "nbformat_minor": 5
}
