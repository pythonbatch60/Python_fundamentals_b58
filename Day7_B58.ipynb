{
 "cells": [
  {
   "cell_type": "code",
   "execution_count": null,
   "id": "5601efcf",
   "metadata": {},
   "outputs": [],
   "source": [
    "Introduction to tuple datatype"
   ]
  },
  {
   "cell_type": "code",
   "execution_count": null,
   "id": "757c183f",
   "metadata": {},
   "outputs": [],
   "source": [
    "Immutable list is called as tuple. "
   ]
  },
  {
   "cell_type": "code",
   "execution_count": null,
   "id": "52ef8d48",
   "metadata": {},
   "outputs": [],
   "source": [
    "How to define the tuple datatype"
   ]
  },
  {
   "cell_type": "code",
   "execution_count": 1,
   "id": "9be1f07d",
   "metadata": {},
   "outputs": [],
   "source": [
    "numbers=(1,2,3,4,5)"
   ]
  },
  {
   "cell_type": "code",
   "execution_count": 2,
   "id": "e24d02b5",
   "metadata": {},
   "outputs": [
    {
     "name": "stdout",
     "output_type": "stream",
     "text": [
      "(1, 2, 3, 4, 5)\n"
     ]
    }
   ],
   "source": [
    "print(numbers)"
   ]
  },
  {
   "cell_type": "code",
   "execution_count": 3,
   "id": "bf36a558",
   "metadata": {},
   "outputs": [
    {
     "data": {
      "text/plain": [
       "tuple"
      ]
     },
     "execution_count": 3,
     "metadata": {},
     "output_type": "execute_result"
    }
   ],
   "source": [
    "type(numbers)"
   ]
  },
  {
   "cell_type": "code",
   "execution_count": null,
   "id": "b70f4963",
   "metadata": {},
   "outputs": [],
   "source": [
    "#req: want to modify the number 2 to 7"
   ]
  },
  {
   "cell_type": "code",
   "execution_count": 4,
   "id": "e6ad4599",
   "metadata": {},
   "outputs": [
    {
     "ename": "SyntaxError",
     "evalue": "cannot assign to function call (<ipython-input-4-3d86deb76a81>, line 1)",
     "output_type": "error",
     "traceback": [
      "\u001b[1;36m  File \u001b[1;32m\"<ipython-input-4-3d86deb76a81>\"\u001b[1;36m, line \u001b[1;32m1\u001b[0m\n\u001b[1;33m    numbers(1)=7\u001b[0m\n\u001b[1;37m    ^\u001b[0m\n\u001b[1;31mSyntaxError\u001b[0m\u001b[1;31m:\u001b[0m cannot assign to function call\n"
     ]
    }
   ],
   "source": [
    "numbers(1)=7"
   ]
  },
  {
   "cell_type": "code",
   "execution_count": 5,
   "id": "d418535c",
   "metadata": {},
   "outputs": [
    {
     "ename": "SyntaxError",
     "evalue": "cannot assign to function call (<ipython-input-5-a10b26064319>, line 1)",
     "output_type": "error",
     "traceback": [
      "\u001b[1;36m  File \u001b[1;32m\"<ipython-input-5-a10b26064319>\"\u001b[1;36m, line \u001b[1;32m1\u001b[0m\n\u001b[1;33m    numbers(1)=7\u001b[0m\n\u001b[1;37m    ^\u001b[0m\n\u001b[1;31mSyntaxError\u001b[0m\u001b[1;31m:\u001b[0m cannot assign to function call\n"
     ]
    }
   ],
   "source": [
    "numbers(1)=7  #modification is not supported by tuple datatype\n",
    "input in[4]\n",
    "numbers(1)=7"
   ]
  },
  {
   "cell_type": "code",
   "execution_count": 6,
   "id": "423a6d91",
   "metadata": {},
   "outputs": [],
   "source": [
    "dimensions=(100,250)"
   ]
  },
  {
   "cell_type": "code",
   "execution_count": 8,
   "id": "34f39f50",
   "metadata": {},
   "outputs": [
    {
     "name": "stdout",
     "output_type": "stream",
     "text": [
      "(100, 250)\n"
     ]
    }
   ],
   "source": [
    "print(dimensions)"
   ]
  },
  {
   "cell_type": "code",
   "execution_count": 9,
   "id": "971d79ed",
   "metadata": {},
   "outputs": [],
   "source": [
    "dimensions=(150,250) #100 is changed to 150"
   ]
  },
  {
   "cell_type": "code",
   "execution_count": 10,
   "id": "a2c4ef4c",
   "metadata": {},
   "outputs": [
    {
     "name": "stdout",
     "output_type": "stream",
     "text": [
      "(150, 250)\n"
     ]
    }
   ],
   "source": [
    "print(dimensions)"
   ]
  },
  {
   "cell_type": "code",
   "execution_count": null,
   "id": "1b053d0d",
   "metadata": {},
   "outputs": [],
   "source": [
    "Tuple of students"
   ]
  },
  {
   "cell_type": "code",
   "execution_count": 11,
   "id": "8ee26ab9",
   "metadata": {},
   "outputs": [],
   "source": [
    "students=('arun','azeem','bindu','iqra')"
   ]
  },
  {
   "cell_type": "code",
   "execution_count": 12,
   "id": "8a141059",
   "metadata": {},
   "outputs": [
    {
     "data": {
      "text/plain": [
       "tuple"
      ]
     },
     "execution_count": 12,
     "metadata": {},
     "output_type": "execute_result"
    }
   ],
   "source": [
    "type(students)"
   ]
  },
  {
   "cell_type": "code",
   "execution_count": null,
   "id": "1c65f882",
   "metadata": {},
   "outputs": [],
   "source": [
    "#req: to get azeem name"
   ]
  },
  {
   "cell_type": "code",
   "execution_count": 13,
   "id": "978980b6",
   "metadata": {},
   "outputs": [
    {
     "name": "stdout",
     "output_type": "stream",
     "text": [
      "azeem\n"
     ]
    }
   ],
   "source": [
    "print(students[1])"
   ]
  },
  {
   "cell_type": "code",
   "execution_count": 14,
   "id": "381eab7e",
   "metadata": {},
   "outputs": [
    {
     "name": "stdout",
     "output_type": "stream",
     "text": [
      "Azeem\n"
     ]
    }
   ],
   "source": [
    "print(students[1].title())"
   ]
  },
  {
   "cell_type": "code",
   "execution_count": 15,
   "id": "3b2bad87",
   "metadata": {},
   "outputs": [
    {
     "name": "stdout",
     "output_type": "stream",
     "text": [
      "arun\n",
      "azeem\n",
      "bindu\n",
      "iqra\n"
     ]
    }
   ],
   "source": [
    "for a in students:\n",
    "    print(a)"
   ]
  },
  {
   "cell_type": "code",
   "execution_count": null,
   "id": "351670e2",
   "metadata": {},
   "outputs": [],
   "source": [
    "Introduction to dictionary"
   ]
  },
  {
   "cell_type": "code",
   "execution_count": null,
   "id": "2cd85b19",
   "metadata": {},
   "outputs": [],
   "source": [
    "Dictionary is a combination of key value pairs. classified as mutable datatype.to define ===>{}"
   ]
  },
  {
   "cell_type": "code",
   "execution_count": null,
   "id": "e91a0e4a",
   "metadata": {},
   "outputs": [],
   "source": [
    "Short form written as dict"
   ]
  },
  {
   "cell_type": "code",
   "execution_count": 17,
   "id": "fb3b56bc",
   "metadata": {},
   "outputs": [],
   "source": [
    "alien={'color':'green','points':5}\n"
   ]
  },
  {
   "cell_type": "code",
   "execution_count": 18,
   "id": "b26b2a34",
   "metadata": {},
   "outputs": [
    {
     "name": "stdout",
     "output_type": "stream",
     "text": [
      "{'color': 'green', 'points': 5}\n"
     ]
    }
   ],
   "source": [
    "print(alien)"
   ]
  },
  {
   "cell_type": "code",
   "execution_count": 19,
   "id": "0e807d59",
   "metadata": {},
   "outputs": [
    {
     "data": {
      "text/plain": [
       "dict"
      ]
     },
     "execution_count": 19,
     "metadata": {},
     "output_type": "execute_result"
    }
   ],
   "source": [
    "type(alien)"
   ]
  },
  {
   "cell_type": "code",
   "execution_count": null,
   "id": "63251a82",
   "metadata": {},
   "outputs": [],
   "source": [
    "combination of key value-->dictionary "
   ]
  }
 ],
 "metadata": {
  "kernelspec": {
   "display_name": "Python 3",
   "language": "python",
   "name": "python3"
  },
  "language_info": {
   "codemirror_mode": {
    "name": "ipython",
    "version": 3
   },
   "file_extension": ".py",
   "mimetype": "text/x-python",
   "name": "python",
   "nbconvert_exporter": "python",
   "pygments_lexer": "ipython3",
   "version": "3.8.8"
  }
 },
 "nbformat": 4,
 "nbformat_minor": 5
}
